
-- SELECT statement with WHERE clause
SELECT column1, column2
FROM table_name
WHERE condition;

-- Aggregation functions: SUM, AVG, COUNT, MIN, MAX
SELECT SUM(column_name) AS total_sum,
       AVG(column_name) AS average_value,
       COUNT(column_name) AS total_count,
       MIN(column_name) AS min_value,
       MAX(column_name) AS max_value
FROM table_name
WHERE condition;

-- GROUP BY with HAVING clause
SELECT column1, COUNT(*) AS count_value
FROM table_name
GROUP BY column1
HAVING COUNT(*) > 1;

-- JOIN statements: INNER JOIN, LEFT JOIN, RIGHT JOIN, FULL OUTER JOIN
-- INNER JOIN example
SELECT a.column1, b.column2
FROM table1 a
INNER JOIN table2 b ON a.common_column = b.common_column;

-- LEFT JOIN example
SELECT a.column1, b.column2
FROM table1 a
LEFT JOIN table2 b ON a.common_column = b.common_column;

-- RIGHT JOIN example
SELECT a.column1, b.column2
FROM table1 a
RIGHT JOIN table2 b ON a.common_column = b.common_column;

-- FULL OUTER JOIN example
SELECT a.column1, b.column2
FROM table1 a
FULL OUTER JOIN table2 b ON a.common_column = b.common_column;

-- UNION example
SELECT column1, column2 FROM table1
UNION
SELECT column1, column2 FROM table2;

-- Subqueries
SELECT column1, column2
FROM table_name
WHERE column3 IN (SELECT column3 FROM another_table WHERE condition);

-- Case statement
SELECT column1,
       CASE
           WHEN condition1 THEN 'Result1'
           WHEN condition2 THEN 'Result2'
           ELSE 'OtherResult'
       END AS new_column
FROM table_name;

-- Window functions: ROW_NUMBER, RANK, DENSE_RANK
SELECT column1, column2,
       ROW_NUMBER() OVER (PARTITION BY column1 ORDER BY column2 DESC) AS row_num,
       RANK() OVER (PARTITION BY column1 ORDER BY column2 DESC) AS rank_num,
       DENSE_RANK() OVER (PARTITION BY column1 ORDER BY column2 DESC) AS dense_rank_num
FROM table_name;
